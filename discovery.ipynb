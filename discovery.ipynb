{
 "cells": [
  {
   "cell_type": "code",
   "id": "initial_id",
   "metadata": {
    "collapsed": true,
    "ExecuteTime": {
     "end_time": "2024-10-25T13:24:59.078028Z",
     "start_time": "2024-10-25T13:24:58.713741Z"
    }
   },
   "source": [
    "import pandas as pd\n",
    "df = pd.read_csv('dataset.csv')\n",
    "countnull = df.isnull().sum()\n",
    "print(countnull)"
   ],
   "outputs": [
    {
     "name": "stdout",
     "output_type": "stream",
     "text": [
      "YearStart                          0\n",
      "YearEnd                            0\n",
      "LocationAbbr                       0\n",
      "LocationDesc                       0\n",
      "Datasource                         0\n",
      "Class                              0\n",
      "Topic                              0\n",
      "Question                           0\n",
      "Data_Value_Unit                15400\n",
      "Data_Value_Type                    0\n",
      "Data_Value                     10767\n",
      "Data_Value_Alt                 10767\n",
      "Data_Value_Footnote_Symbol     93505\n",
      "Data_Value_Footnote            93505\n",
      "Low_Confidence_Limit           10767\n",
      "High_Confidence_Limit          10767\n",
      "Sample_Size                    10767\n",
      "Total                         100548\n",
      "Age(years)                     81928\n",
      "Education                      89376\n",
      "Gender                         96824\n",
      "Income                         78204\n",
      "Race/Ethnicity                 74480\n",
      "GeoLocation                     1932\n",
      "ClassID                            0\n",
      "TopicID                            0\n",
      "QuestionID                         0\n",
      "DataValueTypeID                    0\n",
      "LocationID                         0\n",
      "StratificationCategory1            0\n",
      "Stratification1                    0\n",
      "StratificationCategoryId1          0\n",
      "StratificationID1                  0\n",
      "dtype: int64\n"
     ]
    }
   ],
   "execution_count": 2
  }
 ],
 "metadata": {
  "kernelspec": {
   "display_name": "Python 3",
   "language": "python",
   "name": "python3"
  },
  "language_info": {
   "codemirror_mode": {
    "name": "ipython",
    "version": 2
   },
   "file_extension": ".py",
   "mimetype": "text/x-python",
   "name": "python",
   "nbconvert_exporter": "python",
   "pygments_lexer": "ipython2",
   "version": "2.7.6"
  }
 },
 "nbformat": 4,
 "nbformat_minor": 5
}
