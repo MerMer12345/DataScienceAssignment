{
 "cells": [
  {
   "metadata": {},
   "cell_type": "markdown",
   "source": "This file is to explore the Data and learn how many null values and how much usable data is in the Dataset ",
   "id": "2c4a20d8a833be58"
  },
  {
   "cell_type": "code",
   "id": "initial_id",
   "metadata": {
    "collapsed": true,
    "ExecuteTime": {
     "end_time": "2024-10-27T16:33:01.932703Z",
     "start_time": "2024-10-27T16:33:01.535163Z"
    }
   },
   "source": [
    "import pandas as pd\n",
    "df = pd.read_csv('dataset.csv')\n",
    "num_rows = len(df)\n",
    "print(\"Number of rows in df:\", num_rows)\n",
    "countnull = df.isnull().sum().sort_values()\n",
    "print(countnull)"
   ],
   "outputs": [
    {
     "name": "stdout",
     "output_type": "stream",
     "text": [
      "Number of rows in df: 104272\n",
      "YearStart                          0\n",
      "YearEnd                            0\n",
      "LocationAbbr                       0\n",
      "LocationDesc                       0\n",
      "Datasource                         0\n",
      "Class                              0\n",
      "Topic                              0\n",
      "Question                           0\n",
      "Data_Value_Type                    0\n",
      "TopicID                            0\n",
      "QuestionID                         0\n",
      "DataValueTypeID                    0\n",
      "LocationID                         0\n",
      "StratificationCategory1            0\n",
      "Stratification1                    0\n",
      "StratificationCategoryId1          0\n",
      "ClassID                            0\n",
      "StratificationID1                  0\n",
      "GeoLocation                     1932\n",
      "Data_Value                     10767\n",
      "High_Confidence_Limit          10767\n",
      "Data_Value_Alt                 10767\n",
      "Low_Confidence_Limit           10767\n",
      "Sample_Size                    10767\n",
      "Data_Value_Unit                15400\n",
      "Race/Ethnicity                 74480\n",
      "Income                         78204\n",
      "Age(years)                     81928\n",
      "Education                      89376\n",
      "Data_Value_Footnote_Symbol     93505\n",
      "Data_Value_Footnote            93505\n",
      "Gender                         96824\n",
      "Total                         100548\n",
      "dtype: int64\n"
     ]
    }
   ],
   "execution_count": 44
  },
  {
   "metadata": {},
   "cell_type": "markdown",
   "source": "Lots of null, not that good",
   "id": "b8c11e8239130cf3"
  },
  {
   "metadata": {},
   "cell_type": "markdown",
   "source": "Which classes are present in the Data and how many?",
   "id": "4d206b1aaf2c5af1"
  },
  {
   "metadata": {
    "ExecuteTime": {
     "end_time": "2024-10-27T16:33:01.953119Z",
     "start_time": "2024-10-27T16:33:01.942210Z"
    }
   },
   "cell_type": "code",
   "source": [
    "unique_values = df['Class'].value_counts()\n",
    "print(unique_values)"
   ],
   "id": "41a6825aeb233a7d",
   "outputs": [
    {
     "name": "stdout",
     "output_type": "stream",
     "text": [
      "Class\n",
      "Physical Activity          55720\n",
      "Obesity / Weight Status    39368\n",
      "Fruits and Vegetables       9184\n",
      "Name: count, dtype: int64\n"
     ]
    }
   ],
   "execution_count": 45
  },
  {
   "metadata": {},
   "cell_type": "markdown",
   "source": "Which Questions have been asked in the data and how many?",
   "id": "3097beadd1cdae9e"
  },
  {
   "metadata": {
    "ExecuteTime": {
     "end_time": "2024-10-27T16:33:02.025095Z",
     "start_time": "2024-10-27T16:33:02.015735Z"
    }
   },
   "cell_type": "code",
   "source": [
    "unique_values = df['Question'].value_counts()\n",
    "print(unique_values)"
   ],
   "id": "15f6d9fc12383a77",
   "outputs": [
    {
     "name": "stdout",
     "output_type": "stream",
     "text": [
      "Question\n",
      "Percent of adults aged 18 years and older who have obesity                                                                                                                                                                                               19684\n",
      "Percent of adults aged 18 years and older who have an overweight classification                                                                                                                                                                          19684\n",
      "Percent of adults who engage in no leisure-time physical activity                                                                                                                                                                                        19656\n",
      "Percent of adults who engage in muscle-strengthening activities on 2 or more days a week                                                                                                                                                                  9016\n",
      "Percent of adults who achieve at least 150 minutes a week of moderate-intensity aerobic physical activity or 75 minutes a week of vigorous-intensity aerobic physical activity and engage in muscle-strengthening activities on 2 or more days a week     9016\n",
      "Percent of adults who achieve at least 300 minutes a week of moderate-intensity aerobic physical activity or 150 minutes a week of vigorous-intensity aerobic activity (or an equivalent combination)                                                     9016\n",
      "Percent of adults who achieve at least 150 minutes a week of moderate-intensity aerobic physical activity or 75 minutes a week of vigorous-intensity aerobic activity (or an equivalent combination)                                                      9016\n",
      "Percent of adults who report consuming fruit less than one time daily                                                                                                                                                                                     4592\n",
      "Percent of adults who report consuming vegetables less than one time daily                                                                                                                                                                                4592\n",
      "Name: count, dtype: int64\n"
     ]
    }
   ],
   "execution_count": 46
  },
  {
   "metadata": {},
   "cell_type": "markdown",
   "source": "how many null values are there in a year, for example 2019",
   "id": "f3c17896e33cb29a"
  },
  {
   "metadata": {
    "ExecuteTime": {
     "end_time": "2024-10-27T16:33:02.101637Z",
     "start_time": "2024-10-27T16:33:02.085291Z"
    }
   },
   "cell_type": "code",
   "source": [
    "df_year = df[df['YearStart'] == 2019]\n",
    "num_rows = len(df_year)\n",
    "print(num_rows)\n",
    "countnull = df_year.isnull().sum()\n",
    "print(countnull)"
   ],
   "id": "7166ed04e8e876f8",
   "outputs": [
    {
     "name": "stdout",
     "output_type": "stream",
     "text": [
      "13608\n",
      "YearStart                         0\n",
      "YearEnd                           0\n",
      "LocationAbbr                      0\n",
      "LocationDesc                      0\n",
      "Datasource                        0\n",
      "Class                             0\n",
      "Topic                             0\n",
      "Question                          0\n",
      "Data_Value_Unit                   0\n",
      "Data_Value_Type                   0\n",
      "Data_Value                     1557\n",
      "Data_Value_Alt                 1557\n",
      "Data_Value_Footnote_Symbol    12051\n",
      "Data_Value_Footnote           12051\n",
      "Low_Confidence_Limit           1557\n",
      "High_Confidence_Limit          1557\n",
      "Sample_Size                    1557\n",
      "Total                         13122\n",
      "Age(years)                    10692\n",
      "Education                     11664\n",
      "Gender                        12636\n",
      "Income                        10206\n",
      "Race/Ethnicity                 9720\n",
      "GeoLocation                     252\n",
      "ClassID                           0\n",
      "TopicID                           0\n",
      "QuestionID                        0\n",
      "DataValueTypeID                   0\n",
      "LocationID                        0\n",
      "StratificationCategory1           0\n",
      "Stratification1                   0\n",
      "StratificationCategoryId1         0\n",
      "StratificationID1                 0\n",
      "dtype: int64\n"
     ]
    }
   ],
   "execution_count": 47
  },
  {
   "metadata": {},
   "cell_type": "markdown",
   "source": "how many null values are there in a question?",
   "id": "251245a6e2d88901"
  },
  {
   "metadata": {
    "ExecuteTime": {
     "end_time": "2024-10-27T16:33:02.185294Z",
     "start_time": "2024-10-27T16:33:02.161962Z"
    }
   },
   "cell_type": "code",
   "source": [
    "subset_df = df[df['Question'].isin(['Percent of adults aged 18 years and older who have obesity'])]\n",
    "num_rows = len(subset_df)\n",
    "print(\"Number of rows in subset_df:\", num_rows)\n",
    "countnull = subset_df.isnull().sum()\n",
    "print(countnull)"
   ],
   "id": "7fe5f322a03978ed",
   "outputs": [
    {
     "name": "stdout",
     "output_type": "stream",
     "text": [
      "Number of rows in subset_df: 19684\n",
      "YearStart                         0\n",
      "YearEnd                           0\n",
      "LocationAbbr                      0\n",
      "LocationDesc                      0\n",
      "Datasource                        0\n",
      "Class                             0\n",
      "Topic                             0\n",
      "Question                          0\n",
      "Data_Value_Unit                3080\n",
      "Data_Value_Type                   0\n",
      "Data_Value                     1990\n",
      "Data_Value_Alt                 1990\n",
      "Data_Value_Footnote_Symbol    17694\n",
      "Data_Value_Footnote           17694\n",
      "Low_Confidence_Limit           1990\n",
      "High_Confidence_Limit          1990\n",
      "Sample_Size                    1990\n",
      "Total                         18981\n",
      "Age(years)                    15466\n",
      "Education                     16872\n",
      "Gender                        18278\n",
      "Income                        14763\n",
      "Race/Ethnicity                14060\n",
      "GeoLocation                     364\n",
      "ClassID                           0\n",
      "TopicID                           0\n",
      "QuestionID                        0\n",
      "DataValueTypeID                   0\n",
      "LocationID                        0\n",
      "StratificationCategory1           0\n",
      "Stratification1                   0\n",
      "StratificationCategoryId1         0\n",
      "StratificationID1                 0\n",
      "dtype: int64\n"
     ]
    }
   ],
   "execution_count": 48
  },
  {
   "metadata": {},
   "cell_type": "markdown",
   "source": "How many null values are in the Class Obesity/Weight Status",
   "id": "436148354b33329e"
  },
  {
   "metadata": {
    "ExecuteTime": {
     "end_time": "2024-10-27T16:33:02.283576Z",
     "start_time": "2024-10-27T16:33:02.245238Z"
    }
   },
   "cell_type": "code",
   "source": [
    "subset_df = df[df['Class'].isin(['Obesity / Weight Status'])]\n",
    "num_rows = len(subset_df)\n",
    "print(\"Number of rows in subset_df:\", num_rows)\n",
    "countnull = subset_df.isnull().sum()\n",
    "print(countnull)"
   ],
   "id": "d1552d0196709524",
   "outputs": [
    {
     "name": "stdout",
     "output_type": "stream",
     "text": [
      "Number of rows in subset_df: 39368\n",
      "YearStart                         0\n",
      "YearEnd                           0\n",
      "LocationAbbr                      0\n",
      "LocationDesc                      0\n",
      "Datasource                        0\n",
      "Class                             0\n",
      "Topic                             0\n",
      "Question                          0\n",
      "Data_Value_Unit                6160\n",
      "Data_Value_Type                   0\n",
      "Data_Value                     3980\n",
      "Data_Value_Alt                 3980\n",
      "Data_Value_Footnote_Symbol    35388\n",
      "Data_Value_Footnote           35388\n",
      "Low_Confidence_Limit           3980\n",
      "High_Confidence_Limit          3980\n",
      "Sample_Size                    3980\n",
      "Total                         37962\n",
      "Age(years)                    30932\n",
      "Education                     33744\n",
      "Gender                        36556\n",
      "Income                        29526\n",
      "Race/Ethnicity                28120\n",
      "GeoLocation                     728\n",
      "ClassID                           0\n",
      "TopicID                           0\n",
      "QuestionID                        0\n",
      "DataValueTypeID                   0\n",
      "LocationID                        0\n",
      "StratificationCategory1           0\n",
      "Stratification1                   0\n",
      "StratificationCategoryId1         0\n",
      "StratificationID1                 0\n",
      "dtype: int64\n"
     ]
    }
   ],
   "execution_count": 49
  },
  {
   "metadata": {},
   "cell_type": "markdown",
   "source": "3980 null in DataValue is not good, 3890 in sampel size is also not good, those rows are useless to me and will be deleted. Rows missing Age, Education, Gender and income will have to be reviued by statification classification to find out if they are meant to be missing or unintentionally missing. ",
   "id": "5db765e185e9874d"
  },
  {
   "metadata": {
    "ExecuteTime": {
     "end_time": "2024-10-27T16:33:02.398297Z",
     "start_time": "2024-10-27T16:33:02.348393Z"
    }
   },
   "cell_type": "code",
   "source": [
    "subset_df = df[df['Class'].isin(['Physical Activity'])]\n",
    "num_rows = len(subset_df)\n",
    "print(\"Number of rows in subset_df:\", num_rows)\n",
    "countnull = subset_df.isnull().sum()\n",
    "print(countnull)"
   ],
   "id": "efed054c9110d5a",
   "outputs": [
    {
     "name": "stdout",
     "output_type": "stream",
     "text": [
      "Number of rows in subset_df: 55720\n",
      "YearStart                         0\n",
      "YearEnd                           0\n",
      "LocationAbbr                      0\n",
      "LocationDesc                      0\n",
      "Datasource                        0\n",
      "Class                             0\n",
      "Topic                             0\n",
      "Question                          0\n",
      "Data_Value_Unit                9240\n",
      "Data_Value_Type                   0\n",
      "Data_Value                     5758\n",
      "Data_Value_Alt                 5758\n",
      "Data_Value_Footnote_Symbol    49962\n",
      "Data_Value_Footnote           49962\n",
      "Low_Confidence_Limit           5758\n",
      "High_Confidence_Limit          5758\n",
      "Sample_Size                    5758\n",
      "Total                         53730\n",
      "Age(years)                    43780\n",
      "Education                     47760\n",
      "Gender                        51740\n",
      "Income                        41790\n",
      "Race/Ethnicity                39800\n",
      "GeoLocation                    1036\n",
      "ClassID                           0\n",
      "TopicID                           0\n",
      "QuestionID                        0\n",
      "DataValueTypeID                   0\n",
      "LocationID                        0\n",
      "StratificationCategory1           0\n",
      "Stratification1                   0\n",
      "StratificationCategoryId1         0\n",
      "StratificationID1                 0\n",
      "dtype: int64\n"
     ]
    }
   ],
   "execution_count": 50
  },
  {
   "metadata": {
    "ExecuteTime": {
     "end_time": "2024-10-27T16:33:02.484366Z",
     "start_time": "2024-10-27T16:33:02.466351Z"
    }
   },
   "cell_type": "code",
   "source": [
    "subset_df = df[df['Class'].isin(['Fruits and Vegetables'])]\n",
    "num_rows = len(subset_df)\n",
    "print(\"Number of rows in subset_df:\", num_rows)\n",
    "countnull = subset_df.isnull().sum()\n",
    "print(countnull)"
   ],
   "id": "810ff26fafebc151",
   "outputs": [
    {
     "name": "stdout",
     "output_type": "stream",
     "text": [
      "Number of rows in subset_df: 9184\n",
      "YearStart                        0\n",
      "YearEnd                          0\n",
      "LocationAbbr                     0\n",
      "LocationDesc                     0\n",
      "Datasource                       0\n",
      "Class                            0\n",
      "Topic                            0\n",
      "Question                         0\n",
      "Data_Value_Unit                  0\n",
      "Data_Value_Type                  0\n",
      "Data_Value                    1029\n",
      "Data_Value_Alt                1029\n",
      "Data_Value_Footnote_Symbol    8155\n",
      "Data_Value_Footnote           8155\n",
      "Low_Confidence_Limit          1029\n",
      "High_Confidence_Limit         1029\n",
      "Sample_Size                   1029\n",
      "Total                         8856\n",
      "Age(years)                    7216\n",
      "Education                     7872\n",
      "Gender                        8528\n",
      "Income                        6888\n",
      "Race/Ethnicity                6560\n",
      "GeoLocation                    168\n",
      "ClassID                          0\n",
      "TopicID                          0\n",
      "QuestionID                       0\n",
      "DataValueTypeID                  0\n",
      "LocationID                       0\n",
      "StratificationCategory1          0\n",
      "Stratification1                  0\n",
      "StratificationCategoryId1        0\n",
      "StratificationID1                0\n",
      "dtype: int64\n"
     ]
    }
   ],
   "execution_count": 51
  },
  {
   "metadata": {},
   "cell_type": "markdown",
   "source": "These large amounts of null values are acually indended. This Dataset categorises not only by class and question, but also by statification categories",
   "id": "5f3fe1e01831574a"
  },
  {
   "metadata": {},
   "cell_type": "markdown",
   "source": "Number of null values in the Age column with the Stratification Category Age",
   "id": "c1082a8f3e0304e8"
  },
  {
   "metadata": {
    "ExecuteTime": {
     "end_time": "2024-10-27T16:33:02.598378Z",
     "start_time": "2024-10-27T16:33:02.572562Z"
    }
   },
   "cell_type": "code",
   "source": [
    "subset2_df = df[df['StratificationCategory1'].isin(['Age (years)'])]\n",
    "num_rows = len(subset2_df)\n",
    "countnull = subset2_df.isnull().sum().sort_values()\n",
    "print(countnull)\n",
    "print(\"Number of rows in subset2_df:\", num_rows)"
   ],
   "id": "2d413cee223d86e8",
   "outputs": [
    {
     "name": "stdout",
     "output_type": "stream",
     "text": [
      "YearStart                         0\n",
      "YearEnd                           0\n",
      "LocationAbbr                      0\n",
      "LocationDesc                      0\n",
      "Datasource                        0\n",
      "Class                             0\n",
      "Topic                             0\n",
      "Question                          0\n",
      "Data_Value_Type                   0\n",
      "TopicID                           0\n",
      "QuestionID                        0\n",
      "DataValueTypeID                   0\n",
      "LocationID                        0\n",
      "StratificationCategory1           0\n",
      "Stratification1                   0\n",
      "Age(years)                        0\n",
      "StratificationCategoryId1         0\n",
      "ClassID                           0\n",
      "StratificationID1                 0\n",
      "Data_Value                      240\n",
      "High_Confidence_Limit           240\n",
      "Data_Value_Alt                  240\n",
      "Low_Confidence_Limit            240\n",
      "Sample_Size                     240\n",
      "GeoLocation                     414\n",
      "Data_Value_Unit                3300\n",
      "Data_Value_Footnote_Symbol    22104\n",
      "Data_Value_Footnote           22104\n",
      "Total                         22344\n",
      "Income                        22344\n",
      "Gender                        22344\n",
      "Race/Ethnicity                22344\n",
      "Education                     22344\n",
      "dtype: int64\n",
      "Number of rows in subset2_df: 22344\n"
     ]
    }
   ],
   "execution_count": 52
  },
  {
   "metadata": {},
   "cell_type": "markdown",
   "source": "as we can see, there are no null values in the Age column when sorting for the Stratification category Age",
   "id": "449dda64b2e2161c"
  },
  {
   "metadata": {},
   "cell_type": "markdown",
   "source": "YearStart and YearEnd is alsways the same",
   "id": "48517a2acf2bb33c"
  },
  {
   "metadata": {
    "ExecuteTime": {
     "end_time": "2024-10-27T16:34:52.777545Z",
     "start_time": "2024-10-27T16:34:52.773009Z"
    }
   },
   "cell_type": "code",
   "source": [
    "sameyear = df['YearStart'] == df['YearEnd']\n",
    "truecount = sameyear.sum()\n",
    "falsecount = (~sameyear).sum()\n",
    "print(truecount)\n",
    "print(falsecount)"
   ],
   "id": "a1c0ab768360e6cf",
   "outputs": [
    {
     "name": "stdout",
     "output_type": "stream",
     "text": [
      "104272\n",
      "0\n"
     ]
    }
   ],
   "execution_count": 56
  }
 ],
 "metadata": {
  "kernelspec": {
   "display_name": "Python 3",
   "language": "python",
   "name": "python3"
  },
  "language_info": {
   "codemirror_mode": {
    "name": "ipython",
    "version": 2
   },
   "file_extension": ".py",
   "mimetype": "text/x-python",
   "name": "python",
   "nbconvert_exporter": "python",
   "pygments_lexer": "ipython2",
   "version": "2.7.6"
  }
 },
 "nbformat": 4,
 "nbformat_minor": 5
}
