{
 "cells": [
  {
   "metadata": {},
   "cell_type": "markdown",
   "source": "This file is to explore the Data and learn how many null values and how much usable data is in the Dataset ",
   "id": "2c4a20d8a833be58"
  },
  {
   "cell_type": "code",
   "id": "initial_id",
   "metadata": {
    "collapsed": true,
    "ExecuteTime": {
     "end_time": "2024-10-26T10:40:39.352335Z",
     "start_time": "2024-10-26T10:40:38.959770Z"
    }
   },
   "source": [
    "import pandas as pd\n",
    "df = pd.read_csv('dataset.csv')\n",
    "num_rows = len(df)\n",
    "print(\"Number of rows in df:\", num_rows)\n",
    "countnull = df.isnull().sum().sort_values()\n",
    "print(countnull)"
   ],
   "outputs": [
    {
     "name": "stdout",
     "output_type": "stream",
     "text": [
      "Number of rows in df: 104272\n",
      "YearStart                          0\n",
      "YearEnd                            0\n",
      "LocationAbbr                       0\n",
      "LocationDesc                       0\n",
      "Datasource                         0\n",
      "Class                              0\n",
      "Topic                              0\n",
      "Question                           0\n",
      "Data_Value_Type                    0\n",
      "TopicID                            0\n",
      "QuestionID                         0\n",
      "DataValueTypeID                    0\n",
      "LocationID                         0\n",
      "StratificationCategory1            0\n",
      "Stratification1                    0\n",
      "StratificationCategoryId1          0\n",
      "ClassID                            0\n",
      "StratificationID1                  0\n",
      "GeoLocation                     1932\n",
      "Data_Value                     10767\n",
      "High_Confidence_Limit          10767\n",
      "Data_Value_Alt                 10767\n",
      "Low_Confidence_Limit           10767\n",
      "Sample_Size                    10767\n",
      "Data_Value_Unit                15400\n",
      "Race/Ethnicity                 74480\n",
      "Income                         78204\n",
      "Age(years)                     81928\n",
      "Education                      89376\n",
      "Data_Value_Footnote_Symbol     93505\n",
      "Data_Value_Footnote            93505\n",
      "Gender                         96824\n",
      "Total                         100548\n",
      "dtype: int64\n"
     ]
    }
   ],
   "execution_count": 28
  },
  {
   "metadata": {},
   "cell_type": "markdown",
   "source": "Lots of null, not that good",
   "id": "b8c11e8239130cf3"
  },
  {
   "metadata": {},
   "cell_type": "markdown",
   "source": "Which classes are present in the Data and how many?",
   "id": "4d206b1aaf2c5af1"
  },
  {
   "metadata": {
    "ExecuteTime": {
     "end_time": "2024-10-25T13:37:37.917571Z",
     "start_time": "2024-10-25T13:37:37.908439Z"
    }
   },
   "cell_type": "code",
   "source": [
    "unique_values = df['Class'].value_counts()\n",
    "print(unique_values)"
   ],
   "id": "41a6825aeb233a7d",
   "outputs": [
    {
     "name": "stdout",
     "output_type": "stream",
     "text": [
      "Class\n",
      "Physical Activity          55720\n",
      "Obesity / Weight Status    39368\n",
      "Fruits and Vegetables       9184\n",
      "Name: count, dtype: int64\n"
     ]
    }
   ],
   "execution_count": 7
  },
  {
   "metadata": {},
   "cell_type": "markdown",
   "source": "Which Questions have been asked in the data and how many?",
   "id": "3097beadd1cdae9e"
  },
  {
   "metadata": {
    "ExecuteTime": {
     "end_time": "2024-10-25T15:34:31.477276Z",
     "start_time": "2024-10-25T15:34:31.467815Z"
    }
   },
   "cell_type": "code",
   "source": [
    "unique_values = df['Question'].value_counts()\n",
    "print(unique_values)"
   ],
   "id": "15f6d9fc12383a77",
   "outputs": [
    {
     "name": "stdout",
     "output_type": "stream",
     "text": [
      "Question\n",
      "Percent of adults aged 18 years and older who have obesity                                                                                                                                                                                               19684\n",
      "Percent of adults aged 18 years and older who have an overweight classification                                                                                                                                                                          19684\n",
      "Percent of adults who engage in no leisure-time physical activity                                                                                                                                                                                        19656\n",
      "Percent of adults who engage in muscle-strengthening activities on 2 or more days a week                                                                                                                                                                  9016\n",
      "Percent of adults who achieve at least 150 minutes a week of moderate-intensity aerobic physical activity or 75 minutes a week of vigorous-intensity aerobic physical activity and engage in muscle-strengthening activities on 2 or more days a week     9016\n",
      "Percent of adults who achieve at least 300 minutes a week of moderate-intensity aerobic physical activity or 150 minutes a week of vigorous-intensity aerobic activity (or an equivalent combination)                                                     9016\n",
      "Percent of adults who achieve at least 150 minutes a week of moderate-intensity aerobic physical activity or 75 minutes a week of vigorous-intensity aerobic activity (or an equivalent combination)                                                      9016\n",
      "Percent of adults who report consuming fruit less than one time daily                                                                                                                                                                                     4592\n",
      "Percent of adults who report consuming vegetables less than one time daily                                                                                                                                                                                4592\n",
      "Name: count, dtype: int64\n"
     ]
    }
   ],
   "execution_count": 21
  },
  {
   "metadata": {},
   "cell_type": "markdown",
   "source": "how many null values are there in a year, for example 2019",
   "id": "f3c17896e33cb29a"
  },
  {
   "metadata": {
    "ExecuteTime": {
     "end_time": "2024-10-25T15:54:08.824662Z",
     "start_time": "2024-10-25T15:54:08.807282Z"
    }
   },
   "cell_type": "code",
   "source": [
    "df_year = df[df['YearStart'] == 2019]\n",
    "num_rows = len(df_year)\n",
    "print(num_rows)\n",
    "countnull = df_year.isnull().sum()\n",
    "print(countnull)"
   ],
   "id": "7166ed04e8e876f8",
   "outputs": [
    {
     "name": "stdout",
     "output_type": "stream",
     "text": [
      "13608\n",
      "YearStart                         0\n",
      "YearEnd                           0\n",
      "LocationAbbr                      0\n",
      "LocationDesc                      0\n",
      "Datasource                        0\n",
      "Class                             0\n",
      "Topic                             0\n",
      "Question                          0\n",
      "Data_Value_Unit                   0\n",
      "Data_Value_Type                   0\n",
      "Data_Value                     1557\n",
      "Data_Value_Alt                 1557\n",
      "Data_Value_Footnote_Symbol    12051\n",
      "Data_Value_Footnote           12051\n",
      "Low_Confidence_Limit           1557\n",
      "High_Confidence_Limit          1557\n",
      "Sample_Size                    1557\n",
      "Total                         13122\n",
      "Age(years)                    10692\n",
      "Education                     11664\n",
      "Gender                        12636\n",
      "Income                        10206\n",
      "Race/Ethnicity                 9720\n",
      "GeoLocation                     252\n",
      "ClassID                           0\n",
      "TopicID                           0\n",
      "QuestionID                        0\n",
      "DataValueTypeID                   0\n",
      "LocationID                        0\n",
      "StratificationCategory1           0\n",
      "Stratification1                   0\n",
      "StratificationCategoryId1         0\n",
      "StratificationID1                 0\n",
      "dtype: int64\n"
     ]
    }
   ],
   "execution_count": 25
  },
  {
   "metadata": {},
   "cell_type": "markdown",
   "source": "how many null values are there in a question?",
   "id": "251245a6e2d88901"
  },
  {
   "metadata": {
    "ExecuteTime": {
     "end_time": "2024-10-25T15:44:48.137349Z",
     "start_time": "2024-10-25T15:44:48.113564Z"
    }
   },
   "cell_type": "code",
   "source": [
    "subset_df = df[df['Question'].isin(['Percent of adults aged 18 years and older who have obesity'])]\n",
    "num_rows = len(subset_df)\n",
    "print(\"Number of rows in subset_df:\", num_rows)\n",
    "countnull = subset_df.isnull().sum()\n",
    "print(countnull)"
   ],
   "id": "7fe5f322a03978ed",
   "outputs": [
    {
     "name": "stdout",
     "output_type": "stream",
     "text": [
      "Number of rows in subset_df: 19684\n",
      "YearStart                         0\n",
      "YearEnd                           0\n",
      "LocationAbbr                      0\n",
      "LocationDesc                      0\n",
      "Datasource                        0\n",
      "Class                             0\n",
      "Topic                             0\n",
      "Question                          0\n",
      "Data_Value_Unit                3080\n",
      "Data_Value_Type                   0\n",
      "Data_Value                     1990\n",
      "Data_Value_Alt                 1990\n",
      "Data_Value_Footnote_Symbol    17694\n",
      "Data_Value_Footnote           17694\n",
      "Low_Confidence_Limit           1990\n",
      "High_Confidence_Limit          1990\n",
      "Sample_Size                    1990\n",
      "Total                         18981\n",
      "Age(years)                    15466\n",
      "Education                     16872\n",
      "Gender                        18278\n",
      "Income                        14763\n",
      "Race/Ethnicity                14060\n",
      "GeoLocation                     364\n",
      "ClassID                           0\n",
      "TopicID                           0\n",
      "QuestionID                        0\n",
      "DataValueTypeID                   0\n",
      "LocationID                        0\n",
      "StratificationCategory1           0\n",
      "Stratification1                   0\n",
      "StratificationCategoryId1         0\n",
      "StratificationID1                 0\n",
      "dtype: int64\n"
     ]
    }
   ],
   "execution_count": 23
  },
  {
   "metadata": {},
   "cell_type": "markdown",
   "source": "How many null values are in the Class Obesity/Weight Status",
   "id": "436148354b33329e"
  },
  {
   "metadata": {
    "ExecuteTime": {
     "end_time": "2024-10-25T13:44:26.500231Z",
     "start_time": "2024-10-25T13:44:26.459492Z"
    }
   },
   "cell_type": "code",
   "source": [
    "subset_df = df[df['Class'].isin(['Obesity / Weight Status'])]\n",
    "num_rows = len(subset_df)\n",
    "print(\"Number of rows in subset_df:\", num_rows)\n",
    "countnull = subset_df.isnull().sum()\n",
    "print(countnull)"
   ],
   "id": "d1552d0196709524",
   "outputs": [
    {
     "name": "stdout",
     "output_type": "stream",
     "text": [
      "Number of items in subset_df: 39368\n",
      "YearStart                         0\n",
      "YearEnd                           0\n",
      "LocationAbbr                      0\n",
      "LocationDesc                      0\n",
      "Datasource                        0\n",
      "Class                             0\n",
      "Topic                             0\n",
      "Question                          0\n",
      "Data_Value_Unit                6160\n",
      "Data_Value_Type                   0\n",
      "Data_Value                     3980\n",
      "Data_Value_Alt                 3980\n",
      "Data_Value_Footnote_Symbol    35388\n",
      "Data_Value_Footnote           35388\n",
      "Low_Confidence_Limit           3980\n",
      "High_Confidence_Limit          3980\n",
      "Sample_Size                    3980\n",
      "Total                         37962\n",
      "Age(years)                    30932\n",
      "Education                     33744\n",
      "Gender                        36556\n",
      "Income                        29526\n",
      "Race/Ethnicity                28120\n",
      "GeoLocation                     728\n",
      "ClassID                           0\n",
      "TopicID                           0\n",
      "QuestionID                        0\n",
      "DataValueTypeID                   0\n",
      "LocationID                        0\n",
      "StratificationCategory1           0\n",
      "Stratification1                   0\n",
      "StratificationCategoryId1         0\n",
      "StratificationID1                 0\n",
      "dtype: int64\n"
     ]
    }
   ],
   "execution_count": 17
  },
  {
   "metadata": {},
   "cell_type": "markdown",
   "source": "3980 null in DataValue is not good, 3890 in sampel size is also not good, those rows are useless to me and will be deleted. Rows missing Age, Education, Gender and income are bad, but might still be useful, i will evaluate later weather or not to keep and adjust or to delete them. ",
   "id": "5db765e185e9874d"
  },
  {
   "metadata": {
    "ExecuteTime": {
     "end_time": "2024-10-25T13:48:56.192607Z",
     "start_time": "2024-10-25T13:48:56.140328Z"
    }
   },
   "cell_type": "code",
   "source": [
    "subset_df = df[df['Class'].isin(['Physical Activity'])]\n",
    "num_rows = len(subset_df)\n",
    "print(\"Number of rows in subset_df:\", num_rows)\n",
    "countnull = subset_df.isnull().sum()\n",
    "print(countnull)"
   ],
   "id": "efed054c9110d5a",
   "outputs": [
    {
     "name": "stdout",
     "output_type": "stream",
     "text": [
      "Number of rows in subset_df: 55720\n",
      "YearStart                         0\n",
      "YearEnd                           0\n",
      "LocationAbbr                      0\n",
      "LocationDesc                      0\n",
      "Datasource                        0\n",
      "Class                             0\n",
      "Topic                             0\n",
      "Question                          0\n",
      "Data_Value_Unit                9240\n",
      "Data_Value_Type                   0\n",
      "Data_Value                     5758\n",
      "Data_Value_Alt                 5758\n",
      "Data_Value_Footnote_Symbol    49962\n",
      "Data_Value_Footnote           49962\n",
      "Low_Confidence_Limit           5758\n",
      "High_Confidence_Limit          5758\n",
      "Sample_Size                    5758\n",
      "Total                         53730\n",
      "Age(years)                    43780\n",
      "Education                     47760\n",
      "Gender                        51740\n",
      "Income                        41790\n",
      "Race/Ethnicity                39800\n",
      "GeoLocation                    1036\n",
      "ClassID                           0\n",
      "TopicID                           0\n",
      "QuestionID                        0\n",
      "DataValueTypeID                   0\n",
      "LocationID                        0\n",
      "StratificationCategory1           0\n",
      "Stratification1                   0\n",
      "StratificationCategoryId1         0\n",
      "StratificationID1                 0\n",
      "dtype: int64\n"
     ]
    }
   ],
   "execution_count": 18
  },
  {
   "metadata": {
    "ExecuteTime": {
     "end_time": "2024-10-25T13:50:15.916181Z",
     "start_time": "2024-10-25T13:50:15.899272Z"
    }
   },
   "cell_type": "code",
   "source": [
    "subset_df = df[df['Class'].isin(['Fruits and Vegetables'])]\n",
    "num_rows = len(subset_df)\n",
    "print(\"Number of rows in subset_df:\", num_rows)\n",
    "countnull = subset_df.isnull().sum()\n",
    "print(countnull)"
   ],
   "id": "810ff26fafebc151",
   "outputs": [
    {
     "name": "stdout",
     "output_type": "stream",
     "text": [
      "Number of rows in subset_df: 9184\n",
      "YearStart                        0\n",
      "YearEnd                          0\n",
      "LocationAbbr                     0\n",
      "LocationDesc                     0\n",
      "Datasource                       0\n",
      "Class                            0\n",
      "Topic                            0\n",
      "Question                         0\n",
      "Data_Value_Unit                  0\n",
      "Data_Value_Type                  0\n",
      "Data_Value                    1029\n",
      "Data_Value_Alt                1029\n",
      "Data_Value_Footnote_Symbol    8155\n",
      "Data_Value_Footnote           8155\n",
      "Low_Confidence_Limit          1029\n",
      "High_Confidence_Limit         1029\n",
      "Sample_Size                   1029\n",
      "Total                         8856\n",
      "Age(years)                    7216\n",
      "Education                     7872\n",
      "Gender                        8528\n",
      "Income                        6888\n",
      "Race/Ethnicity                6560\n",
      "GeoLocation                    168\n",
      "ClassID                          0\n",
      "TopicID                          0\n",
      "QuestionID                       0\n",
      "DataValueTypeID                  0\n",
      "LocationID                       0\n",
      "StratificationCategory1          0\n",
      "Stratification1                  0\n",
      "StratificationCategoryId1        0\n",
      "StratificationID1                0\n",
      "dtype: int64\n"
     ]
    }
   ],
   "execution_count": 19
  }
 ],
 "metadata": {
  "kernelspec": {
   "display_name": "Python 3",
   "language": "python",
   "name": "python3"
  },
  "language_info": {
   "codemirror_mode": {
    "name": "ipython",
    "version": 2
   },
   "file_extension": ".py",
   "mimetype": "text/x-python",
   "name": "python",
   "nbconvert_exporter": "python",
   "pygments_lexer": "ipython2",
   "version": "2.7.6"
  }
 },
 "nbformat": 4,
 "nbformat_minor": 5
}
