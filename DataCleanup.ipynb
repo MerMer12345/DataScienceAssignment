{
 "cells": [
  {
   "metadata": {},
   "cell_type": "markdown",
   "source": "This file will clean the rows of the datasets which have too many null values",
   "id": "a8b36f6691594b45"
  },
  {
   "cell_type": "code",
   "id": "initial_id",
   "metadata": {
    "collapsed": true,
    "ExecuteTime": {
     "end_time": "2024-10-25T16:06:18.275643Z",
     "start_time": "2024-10-25T16:06:17.015047Z"
    }
   },
   "source": [
    "import pandas as pd\n",
    "df = pd.read_csv('dataset.csv')\n",
    "output_file = 'filtered_file.csv'\n",
    "filtered_df = df[(df['Sample_Size'] > 0) & (df['Data_Value'] != 0)]\n",
    "\n",
    "filtered_df.to_csv(output_file, index=False)"
   ],
   "outputs": [],
   "execution_count": 9
  },
  {
   "metadata": {
    "ExecuteTime": {
     "end_time": "2024-10-25T16:07:14.780712Z",
     "start_time": "2024-10-25T16:07:14.491848Z"
    }
   },
   "cell_type": "code",
   "source": [
    "df2 = pd.read_csv('filtered_file.csv')\n",
    "df2_sample = df2[df2['Sample_Size'] <=0]\n",
    "num_rows = len(df2_sample)\n",
    "print('Number of Rows with a sample size of 0:', num_rows)\n",
    "print('Number of Rows in total',len(df2))"
   ],
   "id": "220be0455e0bb100",
   "outputs": [
    {
     "name": "stdout",
     "output_type": "stream",
     "text": [
      "Number of Rows with a sample size of 0: 0\n",
      "Number of Rows in total 93505\n"
     ]
    }
   ],
   "execution_count": 12
  },
  {
   "metadata": {
    "ExecuteTime": {
     "end_time": "2024-10-25T16:10:55.446810Z",
     "start_time": "2024-10-25T16:10:55.391939Z"
    }
   },
   "cell_type": "code",
   "source": [
    "\n",
    "null_counts = df2.isnull().sum().sort_values()\n",
    "\n",
    "print(\"Columns with the least null values:\")\n",
    "print(null_counts)"
   ],
   "id": "f52fffff6e2e6fe2",
   "outputs": [
    {
     "name": "stdout",
     "output_type": "stream",
     "text": [
      "Columns with the least null values:\n",
      "YearStart                         0\n",
      "YearEnd                           0\n",
      "LocationAbbr                      0\n",
      "LocationDesc                      0\n",
      "Datasource                        0\n",
      "Class                             0\n",
      "Topic                             0\n",
      "Question                          0\n",
      "Data_Value_Type                   0\n",
      "Data_Value                        0\n",
      "Data_Value_Alt                    0\n",
      "High_Confidence_Limit             0\n",
      "Low_Confidence_Limit              0\n",
      "StratificationCategory1           0\n",
      "Stratification1                   0\n",
      "Sample_Size                       0\n",
      "StratificationCategoryId1         0\n",
      "QuestionID                        0\n",
      "TopicID                           0\n",
      "LocationID                        0\n",
      "DataValueTypeID                   0\n",
      "ClassID                           0\n",
      "StratificationID1                 0\n",
      "GeoLocation                    1929\n",
      "Data_Value_Unit               13654\n",
      "Income                        67722\n",
      "Age(years)                    71401\n",
      "Race/Ethnicity                73675\n",
      "Education                     78769\n",
      "Gender                        86137\n",
      "Total                         89821\n",
      "Data_Value_Footnote_Symbol    93505\n",
      "Data_Value_Footnote           93505\n",
      "dtype: int64\n"
     ]
    }
   ],
   "execution_count": 14
  }
 ],
 "metadata": {
  "kernelspec": {
   "display_name": "Python 3",
   "language": "python",
   "name": "python3"
  },
  "language_info": {
   "codemirror_mode": {
    "name": "ipython",
    "version": 2
   },
   "file_extension": ".py",
   "mimetype": "text/x-python",
   "name": "python",
   "nbconvert_exporter": "python",
   "pygments_lexer": "ipython2",
   "version": "2.7.6"
  }
 },
 "nbformat": 4,
 "nbformat_minor": 5
}
