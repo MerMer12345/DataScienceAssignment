{
 "cells": [
  {
   "metadata": {},
   "cell_type": "markdown",
   "source": "This file will clean the data of datasets which have too many null values",
   "id": "a8b36f6691594b45"
  },
  {
   "cell_type": "code",
   "id": "initial_id",
   "metadata": {
    "collapsed": true,
    "ExecuteTime": {
     "end_time": "2024-10-25T16:06:18.275643Z",
     "start_time": "2024-10-25T16:06:17.015047Z"
    }
   },
   "source": [
    "import pandas as pd\n",
    "df = pd.read_csv('dataset.csv')\n",
    "output_file = 'filtered_file.csv'\n",
    "filtered_df = df[(df['Sample_Size'] > 0) & (df['Data_Value'] != 0)]\n",
    "\n",
    "filtered_df.to_csv(output_file, index=False)"
   ],
   "outputs": [],
   "execution_count": 9
  },
  {
   "metadata": {
    "ExecuteTime": {
     "end_time": "2024-10-25T16:07:14.780712Z",
     "start_time": "2024-10-25T16:07:14.491848Z"
    }
   },
   "cell_type": "code",
   "source": [
    "df2 = pd.read_csv('filtered_file.csv')\n",
    "df2_sample = df2[df2['Sample_Size'] <=0]\n",
    "num_rows = len(df2_sample)\n",
    "print('Number of Rows with a sample size of 0:', num_rows)\n",
    "print('Number of Rows in total',len(df2))"
   ],
   "id": "220be0455e0bb100",
   "outputs": [
    {
     "name": "stdout",
     "output_type": "stream",
     "text": [
      "Number of Rows with a sample size of 0: 0\n",
      "Number of Rows in total 93505\n"
     ]
    }
   ],
   "execution_count": 12
  }
 ],
 "metadata": {
  "kernelspec": {
   "display_name": "Python 3",
   "language": "python",
   "name": "python3"
  },
  "language_info": {
   "codemirror_mode": {
    "name": "ipython",
    "version": 2
   },
   "file_extension": ".py",
   "mimetype": "text/x-python",
   "name": "python",
   "nbconvert_exporter": "python",
   "pygments_lexer": "ipython2",
   "version": "2.7.6"
  }
 },
 "nbformat": 4,
 "nbformat_minor": 5
}
